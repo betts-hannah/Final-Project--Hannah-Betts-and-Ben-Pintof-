{
  "nbformat": 4,
  "nbformat_minor": 0,
  "metadata": {
    "colab": {
      "provenance": [],
      "authorship_tag": "ABX9TyMu6nCd9YwBGgfGYAE5kbvJ",
      "include_colab_link": true
    },
    "kernelspec": {
      "name": "python3",
      "display_name": "Python 3"
    },
    "language_info": {
      "name": "python"
    }
  },
  "cells": [
    {
      "cell_type": "markdown",
      "metadata": {
        "id": "view-in-github",
        "colab_type": "text"
      },
      "source": [
        "<a href=\"https://colab.research.google.com/github/betts-hannah/Final-Project--Hannah-Betts-and-Ben-Pintof-/blob/main/PlayerBins.ipynb\" target=\"_parent\"><img src=\"https://colab.research.google.com/assets/colab-badge.svg\" alt=\"Open In Colab\"/></a>"
      ]
    },
    {
      "cell_type": "code",
      "execution_count": null,
      "metadata": {
        "id": "0dhIYp1U0GHI"
      },
      "outputs": [],
      "source": [
        "# Trying to create a function for Players Statistics Bins\n",
        "import pandas as pd\n",
        "import math as ma\n",
        "import numpy as np\n",
        "import random as rand\n",
        "\n",
        "PlayersTable = {\n",
        "    'Players' : ['Player1', 'Player2', 'Player3', 'Player4', 'Player5', 'Player6', 'Player7', 'Player8', 'Player9', 'Player10']\n",
        "}\n",
        "\n",
        "PlayersTable = pd.DataFrame(PlayersTable)\n",
        "\n",
        "BinsTable = {\n",
        "    'Point_Bin' : [],\n",
        "    'Assist_Bin' : [],\n",
        "    'Rebound_Bin' : [],\n",
        "    'Steal_Bin' : [],\n",
        "    'Block_Bin' : [],\n",
        "}\n",
        "\n",
        "BinsTable = pd.DataFrame(BinsTable)\n",
        "\n",
        "def play_to_bin(PlayerTable):\n",
        "    for i in range(len(PlayerTable)):\n",
        ""
      ]
    }
  ]
}